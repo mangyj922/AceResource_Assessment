{
 "cells": [
  {
   "cell_type": "code",
   "execution_count": 1,
   "id": "bf0eadec-d493-4b77-b43e-a244e329d23d",
   "metadata": {},
   "outputs": [],
   "source": [
    "import pandas as pd\n",
    "import numpy as np\n",
    "import matplotlib.pyplot as plt\n",
    "import seaborn as sns\n",
    "from sklearn.preprocessing import StandardScaler\n",
    "from sklearn.decomposition import PCA\n",
    "from sklearn.cluster import KMeans\n",
    "import plotly.express as px\n",
    "import plotly.graph_objects as go\n",
    "import plotly.io as pio\n",
    "import ipywidgets as widgets\n",
    "from ipywidgets import interact, interact_manual\n",
    "from boruta import BorutaPy as bp\n",
    "from sklearn.ensemble import RandomForestRegressor\n",
    "from sklearn.preprocessing import MinMaxScaler"
   ]
  },
  {
   "cell_type": "markdown",
   "id": "9f5dfeb4-9379-4cb7-a6e7-7fa86294b73a",
   "metadata": {},
   "source": [
    "# Q1"
   ]
  },
  {
   "cell_type": "code",
   "execution_count": 2,
   "id": "9111efe5-2fb4-4a01-b674-57f39612ddd4",
   "metadata": {},
   "outputs": [],
   "source": [
    "ingredient_df = pd.read_csv('./ingredient.csv')"
   ]
  },
  {
   "cell_type": "markdown",
   "id": "045ec497-462f-4e2f-ad96-d62af9188385",
   "metadata": {},
   "source": [
    "## EDA"
   ]
  },
  {
   "cell_type": "code",
   "execution_count": 3,
   "id": "43862b1b-de3c-4011-b8ff-8b28caf52a96",
   "metadata": {},
   "outputs": [
    {
     "name": "stdout",
     "output_type": "stream",
     "text": [
      "<class 'pandas.core.frame.DataFrame'>\n",
      "RangeIndex: 214 entries, 0 to 213\n",
      "Data columns (total 9 columns):\n",
      " #   Column  Non-Null Count  Dtype  \n",
      "---  ------  --------------  -----  \n",
      " 0   a       214 non-null    float64\n",
      " 1   b       214 non-null    float64\n",
      " 2   c       214 non-null    float64\n",
      " 3   d       214 non-null    float64\n",
      " 4   e       214 non-null    float64\n",
      " 5   f       214 non-null    float64\n",
      " 6   g       214 non-null    float64\n",
      " 7   h       214 non-null    float64\n",
      " 8   i       214 non-null    float64\n",
      "dtypes: float64(9)\n",
      "memory usage: 15.2 KB\n"
     ]
    }
   ],
   "source": [
    "ingredient_df.info()"
   ]
  },
  {
   "cell_type": "code",
   "execution_count": 4,
   "id": "71959ce1-7628-49fb-9309-778dbe83c0f9",
   "metadata": {},
   "outputs": [
    {
     "data": {
      "text/html": [
       "<div>\n",
       "<style scoped>\n",
       "    .dataframe tbody tr th:only-of-type {\n",
       "        vertical-align: middle;\n",
       "    }\n",
       "\n",
       "    .dataframe tbody tr th {\n",
       "        vertical-align: top;\n",
       "    }\n",
       "\n",
       "    .dataframe thead th {\n",
       "        text-align: right;\n",
       "    }\n",
       "</style>\n",
       "<table border=\"1\" class=\"dataframe\">\n",
       "  <thead>\n",
       "    <tr style=\"text-align: right;\">\n",
       "      <th></th>\n",
       "      <th>a</th>\n",
       "      <th>b</th>\n",
       "      <th>c</th>\n",
       "      <th>d</th>\n",
       "      <th>e</th>\n",
       "      <th>f</th>\n",
       "      <th>g</th>\n",
       "      <th>h</th>\n",
       "      <th>i</th>\n",
       "    </tr>\n",
       "  </thead>\n",
       "  <tbody>\n",
       "    <tr>\n",
       "      <th>count</th>\n",
       "      <td>214.000000</td>\n",
       "      <td>214.000000</td>\n",
       "      <td>214.000000</td>\n",
       "      <td>214.000000</td>\n",
       "      <td>214.000000</td>\n",
       "      <td>214.000000</td>\n",
       "      <td>214.000000</td>\n",
       "      <td>214.000000</td>\n",
       "      <td>214.000000</td>\n",
       "    </tr>\n",
       "    <tr>\n",
       "      <th>mean</th>\n",
       "      <td>1.518365</td>\n",
       "      <td>13.407850</td>\n",
       "      <td>2.684533</td>\n",
       "      <td>1.444907</td>\n",
       "      <td>72.650935</td>\n",
       "      <td>0.497056</td>\n",
       "      <td>8.956963</td>\n",
       "      <td>0.175047</td>\n",
       "      <td>0.057009</td>\n",
       "    </tr>\n",
       "    <tr>\n",
       "      <th>std</th>\n",
       "      <td>0.003037</td>\n",
       "      <td>0.816604</td>\n",
       "      <td>1.442408</td>\n",
       "      <td>0.499270</td>\n",
       "      <td>0.774546</td>\n",
       "      <td>0.652192</td>\n",
       "      <td>1.423153</td>\n",
       "      <td>0.497219</td>\n",
       "      <td>0.097439</td>\n",
       "    </tr>\n",
       "    <tr>\n",
       "      <th>min</th>\n",
       "      <td>1.511150</td>\n",
       "      <td>10.730000</td>\n",
       "      <td>0.000000</td>\n",
       "      <td>0.290000</td>\n",
       "      <td>69.810000</td>\n",
       "      <td>0.000000</td>\n",
       "      <td>5.430000</td>\n",
       "      <td>0.000000</td>\n",
       "      <td>0.000000</td>\n",
       "    </tr>\n",
       "    <tr>\n",
       "      <th>25%</th>\n",
       "      <td>1.516522</td>\n",
       "      <td>12.907500</td>\n",
       "      <td>2.115000</td>\n",
       "      <td>1.190000</td>\n",
       "      <td>72.280000</td>\n",
       "      <td>0.122500</td>\n",
       "      <td>8.240000</td>\n",
       "      <td>0.000000</td>\n",
       "      <td>0.000000</td>\n",
       "    </tr>\n",
       "    <tr>\n",
       "      <th>50%</th>\n",
       "      <td>1.517680</td>\n",
       "      <td>13.300000</td>\n",
       "      <td>3.480000</td>\n",
       "      <td>1.360000</td>\n",
       "      <td>72.790000</td>\n",
       "      <td>0.555000</td>\n",
       "      <td>8.600000</td>\n",
       "      <td>0.000000</td>\n",
       "      <td>0.000000</td>\n",
       "    </tr>\n",
       "    <tr>\n",
       "      <th>75%</th>\n",
       "      <td>1.519157</td>\n",
       "      <td>13.825000</td>\n",
       "      <td>3.600000</td>\n",
       "      <td>1.630000</td>\n",
       "      <td>73.087500</td>\n",
       "      <td>0.610000</td>\n",
       "      <td>9.172500</td>\n",
       "      <td>0.000000</td>\n",
       "      <td>0.100000</td>\n",
       "    </tr>\n",
       "    <tr>\n",
       "      <th>max</th>\n",
       "      <td>1.533930</td>\n",
       "      <td>17.380000</td>\n",
       "      <td>4.490000</td>\n",
       "      <td>3.500000</td>\n",
       "      <td>75.410000</td>\n",
       "      <td>6.210000</td>\n",
       "      <td>16.190000</td>\n",
       "      <td>3.150000</td>\n",
       "      <td>0.510000</td>\n",
       "    </tr>\n",
       "  </tbody>\n",
       "</table>\n",
       "</div>"
      ],
      "text/plain": [
       "                a           b           c           d           e           f  \\\n",
       "count  214.000000  214.000000  214.000000  214.000000  214.000000  214.000000   \n",
       "mean     1.518365   13.407850    2.684533    1.444907   72.650935    0.497056   \n",
       "std      0.003037    0.816604    1.442408    0.499270    0.774546    0.652192   \n",
       "min      1.511150   10.730000    0.000000    0.290000   69.810000    0.000000   \n",
       "25%      1.516522   12.907500    2.115000    1.190000   72.280000    0.122500   \n",
       "50%      1.517680   13.300000    3.480000    1.360000   72.790000    0.555000   \n",
       "75%      1.519157   13.825000    3.600000    1.630000   73.087500    0.610000   \n",
       "max      1.533930   17.380000    4.490000    3.500000   75.410000    6.210000   \n",
       "\n",
       "                g           h           i  \n",
       "count  214.000000  214.000000  214.000000  \n",
       "mean     8.956963    0.175047    0.057009  \n",
       "std      1.423153    0.497219    0.097439  \n",
       "min      5.430000    0.000000    0.000000  \n",
       "25%      8.240000    0.000000    0.000000  \n",
       "50%      8.600000    0.000000    0.000000  \n",
       "75%      9.172500    0.000000    0.100000  \n",
       "max     16.190000    3.150000    0.510000  "
      ]
     },
     "execution_count": 4,
     "metadata": {},
     "output_type": "execute_result"
    }
   ],
   "source": [
    "ingredient_df.describe()"
   ]
  },
  {
   "cell_type": "code",
   "execution_count": 5,
   "id": "e5fcf698-efa1-4e40-9760-8f17c29a9ca7",
   "metadata": {},
   "outputs": [
    {
     "name": "stdout",
     "output_type": "stream",
     "text": [
      "There are 0 columns in \"ingredient.csv\" dataset with missing values.\n"
     ]
    }
   ],
   "source": [
    "# Mssing Value\n",
    "print(f'There are {ingredient_df.isnull().any().sum()} columns in \"ingredient.csv\" dataset with missing values.')"
   ]
  },
  {
   "cell_type": "code",
   "execution_count": 6,
   "id": "1bb78acb-bbaf-4166-bd10-03f23ee1cbbf",
   "metadata": {},
   "outputs": [
    {
     "data": {
      "image/png": "[encoded data removed]",
      "text/plain": [
       "<Figure size 1296x864 with 9 Axes>"
      ]
     },
     "metadata": {
      "needs_background": "light"
     },
     "output_type": "display_data"
    }
   ],
   "source": [
    "f, ax = plt.subplots(3, 3, figsize = (18, 12))\n",
    "\n",
    "i = 0\n",
    "col = list(ingredient_df.columns)\n",
    "\n",
    "for x in range(0, 3):\n",
    "    for y in range(0, 3):\n",
    "        ax[x, y].hist(ingredient_df[col[i]])\n",
    "        ax[x, y].set_title('Distribution of \"{}\" variable'.format(col[i]))\n",
    "        ax[x, y].set_ylabel('value count')\n",
    "        \n",
    "        i+=1"
   ]
  },
  {
   "cell_type": "markdown",
   "id": "26daa1ea-5b55-450b-a219-bf2cde6ade4c",
   "metadata": {},
   "source": [
    "From these charts, we can see that most of the data value of each column"
   ]
  },
  {
   "cell_type": "code",
   "execution_count": 7,
   "id": "d854c6a2-9797-4a2a-a9e5-0f15bc14d0ba",
   "metadata": {},
   "outputs": [
    {
     "data": {
      "image/png": "[encoded data removed]",
      "text/plain": [
       "<Figure size 1296x864 with 9 Axes>"
      ]
     },
     "metadata": {
      "needs_background": "light"
     },
     "output_type": "display_data"
    }
   ],
   "source": [
    "f, ax = plt.subplots(3, 3, figsize = (18, 12))\n",
    "\n",
    "i = 0\n",
    "col = list(ingredient_df.columns)\n",
    "\n",
    "for x in range(0, 3):\n",
    "    for y in range(0, 3):\n",
    "        ax[x, y].boxplot(ingredient_df[col[i]])\n",
    "        ax[x, y].set_title('Boxplot of \"{}\" variable'.format(col[i]))\n",
    "        # ax[x, y].set_ylabel('value count')\n",
    "        \n",
    "        i+=1"
   ]
  },
  {
   "cell_type": "markdown",
   "id": "ee702597-93c4-4088-ad8a-15ca3bf505f2",
   "metadata": {},
   "source": [
    "As we can see, \n",
    "- most of the boxplots have outliers, except vairable \"c\". \n",
    "- for boxplot of \"h\" variable, it is because most of the data is 0\n",
    "- There are some overlapping boxplot such as variable \"f\" and \"i\", variable \"f\" shows upper quartile and median are overlapped while variable \"i\" shows lower quartile and median are overlapped"
   ]
  },
  {
   "cell_type": "code",
   "execution_count": 8,
   "id": "6cfa6b88-1dbc-479e-93bd-2628d6abf691",
   "metadata": {},
   "outputs": [
    {
     "data": {
      "image/png": "[encoded data removed]",
      "text/plain": [
       "<Figure size 288x288 with 1 Axes>"
      ]
     },
     "metadata": {
      "needs_background": "light"
     },
     "output_type": "display_data"
    },
    {
     "data": {
      "text/html": [
       "<div>\n",
       "<style scoped>\n",
       "    .dataframe tbody tr th:only-of-type {\n",
       "        vertical-align: middle;\n",
       "    }\n",
       "\n",
       "    .dataframe tbody tr th {\n",
       "        vertical-align: top;\n",
       "    }\n",
       "\n",
       "    .dataframe thead th {\n",
       "        text-align: right;\n",
       "    }\n",
       "</style>\n",
       "<table border=\"1\" class=\"dataframe\">\n",
       "  <thead>\n",
       "    <tr style=\"text-align: right;\">\n",
       "      <th></th>\n",
       "      <th>a</th>\n",
       "      <th>b</th>\n",
       "      <th>c</th>\n",
       "      <th>d</th>\n",
       "      <th>e</th>\n",
       "      <th>f</th>\n",
       "      <th>g</th>\n",
       "      <th>h</th>\n",
       "      <th>i</th>\n",
       "    </tr>\n",
       "  </thead>\n",
       "  <tbody>\n",
       "    <tr>\n",
       "      <th>a</th>\n",
       "      <td>1.000000</td>\n",
       "      <td>-0.191885</td>\n",
       "      <td>-0.122274</td>\n",
       "      <td>-0.407326</td>\n",
       "      <td>-0.542052</td>\n",
       "      <td>-0.289833</td>\n",
       "      <td>0.810403</td>\n",
       "      <td>-0.000386</td>\n",
       "      <td>0.143010</td>\n",
       "    </tr>\n",
       "    <tr>\n",
       "      <th>b</th>\n",
       "      <td>-0.191885</td>\n",
       "      <td>1.000000</td>\n",
       "      <td>-0.273732</td>\n",
       "      <td>0.156794</td>\n",
       "      <td>-0.069809</td>\n",
       "      <td>-0.266087</td>\n",
       "      <td>-0.275442</td>\n",
       "      <td>0.326603</td>\n",
       "      <td>-0.241346</td>\n",
       "    </tr>\n",
       "    <tr>\n",
       "      <th>c</th>\n",
       "      <td>-0.122274</td>\n",
       "      <td>-0.273732</td>\n",
       "      <td>1.000000</td>\n",
       "      <td>-0.481799</td>\n",
       "      <td>-0.165927</td>\n",
       "      <td>0.005396</td>\n",
       "      <td>-0.443750</td>\n",
       "      <td>-0.492262</td>\n",
       "      <td>0.083060</td>\n",
       "    </tr>\n",
       "    <tr>\n",
       "      <th>d</th>\n",
       "      <td>-0.407326</td>\n",
       "      <td>0.156794</td>\n",
       "      <td>-0.481799</td>\n",
       "      <td>1.000000</td>\n",
       "      <td>-0.005524</td>\n",
       "      <td>0.325958</td>\n",
       "      <td>-0.259592</td>\n",
       "      <td>0.479404</td>\n",
       "      <td>-0.074402</td>\n",
       "    </tr>\n",
       "    <tr>\n",
       "      <th>e</th>\n",
       "      <td>-0.542052</td>\n",
       "      <td>-0.069809</td>\n",
       "      <td>-0.165927</td>\n",
       "      <td>-0.005524</td>\n",
       "      <td>1.000000</td>\n",
       "      <td>-0.193331</td>\n",
       "      <td>-0.208732</td>\n",
       "      <td>-0.102151</td>\n",
       "      <td>-0.094201</td>\n",
       "    </tr>\n",
       "    <tr>\n",
       "      <th>f</th>\n",
       "      <td>-0.289833</td>\n",
       "      <td>-0.266087</td>\n",
       "      <td>0.005396</td>\n",
       "      <td>0.325958</td>\n",
       "      <td>-0.193331</td>\n",
       "      <td>1.000000</td>\n",
       "      <td>-0.317836</td>\n",
       "      <td>-0.042618</td>\n",
       "      <td>-0.007719</td>\n",
       "    </tr>\n",
       "    <tr>\n",
       "      <th>g</th>\n",
       "      <td>0.810403</td>\n",
       "      <td>-0.275442</td>\n",
       "      <td>-0.443750</td>\n",
       "      <td>-0.259592</td>\n",
       "      <td>-0.208732</td>\n",
       "      <td>-0.317836</td>\n",
       "      <td>1.000000</td>\n",
       "      <td>-0.112841</td>\n",
       "      <td>0.124968</td>\n",
       "    </tr>\n",
       "    <tr>\n",
       "      <th>h</th>\n",
       "      <td>-0.000386</td>\n",
       "      <td>0.326603</td>\n",
       "      <td>-0.492262</td>\n",
       "      <td>0.479404</td>\n",
       "      <td>-0.102151</td>\n",
       "      <td>-0.042618</td>\n",
       "      <td>-0.112841</td>\n",
       "      <td>1.000000</td>\n",
       "      <td>-0.058692</td>\n",
       "    </tr>\n",
       "    <tr>\n",
       "      <th>i</th>\n",
       "      <td>0.143010</td>\n",
       "      <td>-0.241346</td>\n",
       "      <td>0.083060</td>\n",
       "      <td>-0.074402</td>\n",
       "      <td>-0.094201</td>\n",
       "      <td>-0.007719</td>\n",
       "      <td>0.124968</td>\n",
       "      <td>-0.058692</td>\n",
       "      <td>1.000000</td>\n",
       "    </tr>\n",
       "  </tbody>\n",
       "</table>\n",
       "</div>"
      ],
      "text/plain": [
       "          a         b         c         d         e         f         g  \\\n",
       "a  1.000000 -0.191885 -0.122274 -0.407326 -0.542052 -0.289833  0.810403   \n",
       "b -0.191885  1.000000 -0.273732  0.156794 -0.069809 -0.266087 -0.275442   \n",
       "c -0.122274 -0.273732  1.000000 -0.481799 -0.165927  0.005396 -0.443750   \n",
       "d -0.407326  0.156794 -0.481799  1.000000 -0.005524  0.325958 -0.259592   \n",
       "e -0.542052 -0.069809 -0.165927 -0.005524  1.000000 -0.193331 -0.208732   \n",
       "f -0.289833 -0.266087  0.005396  0.325958 -0.193331  1.000000 -0.317836   \n",
       "g  0.810403 -0.275442 -0.443750 -0.259592 -0.208732 -0.317836  1.000000   \n",
       "h -0.000386  0.326603 -0.492262  0.479404 -0.102151 -0.042618 -0.112841   \n",
       "i  0.143010 -0.241346  0.083060 -0.074402 -0.094201 -0.007719  0.124968   \n",
       "\n",
       "          h         i  \n",
       "a -0.000386  0.143010  \n",
       "b  0.326603 -0.241346  \n",
       "c -0.492262  0.083060  \n",
       "d  0.479404 -0.074402  \n",
       "e -0.102151 -0.094201  \n",
       "f -0.042618 -0.007719  \n",
       "g -0.112841  0.124968  \n",
       "h  1.000000 -0.058692  \n",
       "i -0.058692  1.000000  "
      ]
     },
     "execution_count": 8,
     "metadata": {},
     "output_type": "execute_result"
    }
   ],
   "source": [
    "plt.matshow(ingredient_df.corr())\n",
    "plt.xticks(range(9), ingredient_df.columns.values, rotation='vertical')\n",
    "plt.yticks(range(9), ingredient_df.columns.values)\n",
    "plt.xlabel('Correlation')\n",
    "plt.show()\n",
    "ingredient_df.corr()"
   ]
  },
  {
   "cell_type": "markdown",
   "id": "b521d98d-98b4-481a-8f36-47daa67cd329",
   "metadata": {},
   "source": [
    "From the heatmap, \n",
    "- there is a strong positive correlation between variable \"a\" and \"g\"\n",
    "- there is also a weak negative correlation between variable \"c\", \"g\" and \"h\""
   ]
  },
  {
   "cell_type": "markdown",
   "id": "390f4042-8f0f-443e-990d-09e8ec04420c",
   "metadata": {},
   "source": [
    "## Clustering"
   ]
  },
  {
   "cell_type": "code",
   "execution_count": 9,
   "id": "7e16fdf0-24ad-4ebe-85e0-08361a22b185",
   "metadata": {},
   "outputs": [],
   "source": [
    "scaler = StandardScaler()\n",
    "ingredient_scaled = scaler.fit_transform(ingredient_df)"
   ]
  },
  {
   "cell_type": "code",
   "execution_count": 10,
   "id": "72b05c39-a405-46ed-a5c8-93ef80fda5d1",
   "metadata": {},
   "outputs": [
    {
     "data": {
      "image/png": "[encoded data removed]",
      "text/plain": [
       "<Figure size 1080x720 with 9 Axes>"
      ]
     },
     "metadata": {
      "needs_background": "light"
     },
     "output_type": "display_data"
    }
   ],
   "source": [
    "hist_scaled = pd.DataFrame(ingredient_scaled, columns=ingredient_df.columns).hist(figsize=(15, 10), bins=20)"
   ]
  },
  {
   "cell_type": "code",
   "execution_count": 11,
   "id": "03cff23f-548a-4063-8f66-fd295620634f",
   "metadata": {},
   "outputs": [
    {
     "name": "stdout",
     "output_type": "stream",
     "text": [
      "PCA 2 variance ratios: [0.27901819 0.2277858 ]\n"
     ]
    }
   ],
   "source": [
    "# Reduce the data with PCA into 2 components.\n",
    "pca2 = PCA(n_components=2)\n",
    "ingredient_pca2 = pca2.fit_transform(ingredient_scaled)\n",
    "\n",
    "print('PCA 2 variance ratios: {}'.format(pca2.explained_variance_ratio_))"
   ]
  },
  {
   "cell_type": "code",
   "execution_count": 12,
   "id": "c8649a4a-4285-49db-b6a1-5c8fa43673b7",
   "metadata": {},
   "outputs": [
    {
     "data": {
      "text/plain": [
       "<AxesSubplot:xlabel='pc1', ylabel='pc2'>"
      ]
     },
     "execution_count": 12,
     "metadata": {},
     "output_type": "execute_result"
    },
    {
     "data": {
      "image/png": "[encoded data removed]",
      "text/plain": [
       "<Figure size 432x288 with 1 Axes>"
      ]
     },
     "metadata": {
      "needs_background": "light"
     },
     "output_type": "display_data"
    }
   ],
   "source": [
    "# Visualize the data using the principal components\n",
    "ingredient_pc2_df = pd.DataFrame(ingredient_pca2, columns=['pc1', 'pc2'])\n",
    "sns.scatterplot(data=ingredient_pc2_df, x='pc1', y='pc2')"
   ]
  },
  {
   "cell_type": "code",
   "execution_count": 13,
   "id": "df1e43cb-3cfe-4499-85f7-cf3b6e5ae7ec",
   "metadata": {},
   "outputs": [
    {
     "name": "stderr",
     "output_type": "stream",
     "text": [
      "C:\\Users\\mangyj\\anaconda3\\lib\\site-packages\\sklearn\\cluster\\_kmeans.py:1036: UserWarning: KMeans is known to have a memory leak on Windows with MKL, when there are less chunks than available threads. You can avoid it by setting the environment variable OMP_NUM_THREADS=1.\n",
      "  warnings.warn(\n"
     ]
    },
    {
     "data": {
      "text/plain": [
       "<AxesSubplot:>"
      ]
     },
     "execution_count": 13,
     "metadata": {},
     "output_type": "execute_result"
    },
    {
     "data": {
      "image/png": "[encoded data removed]",
      "text/plain": [
       "<Figure size 432x288 with 1 Axes>"
      ]
     },
     "metadata": {
      "needs_background": "light"
     },
     "output_type": "display_data"
    }
   ],
   "source": [
    "# Cluster using KMeans\n",
    "# Iterate over various k and use the SSE/Elbow method to define the number of k\n",
    "numClusters = list(range(1, 10))\n",
    "sse = []\n",
    "ingredient_predictions = []\n",
    "for k in numClusters:\n",
    "    kmeans = KMeans(n_clusters=k, random_state=0)\n",
    "    ingredient_predictions.append(kmeans.fit_predict(ingredient_pca2))\n",
    "    sse.append(kmeans.inertia_)\n",
    "\n",
    "# SSE / Elbow\n",
    "sns.lineplot(x=numClusters, y=sse)"
   ]
  },
  {
   "cell_type": "code",
   "execution_count": 14,
   "id": "aaca4e7c-73e3-4b68-89be-926159437226",
   "metadata": {},
   "outputs": [],
   "source": [
    "# Apply cluster IDs to the principal component data\n",
    "# k=3 is selected from the SSE/Elbow Method\n",
    "ingredient_pc2_clusters = ingredient_pc2_df.copy()\n",
    "ingredient_pc2_clusters['cluster_k3'] = ingredient_predictions[2]\n",
    "ingredient_pc2_clusters\n",
    "\n",
    "# Apply cluster IDs to the original data\n",
    "ingredient_df['cluster_k3'] = ingredient_predictions[2]"
   ]
  },
  {
   "cell_type": "code",
   "execution_count": 15,
   "id": "01c7fa17-903c-4469-b7e7-c8509763a122",
   "metadata": {},
   "outputs": [
    {
     "data": {
      "text/plain": [
       "<AxesSubplot:xlabel='pc1', ylabel='pc2'>"
      ]
     },
     "execution_count": 15,
     "metadata": {},
     "output_type": "execute_result"
    },
    {
     "data": {
      "image/png": "[encoded data removed]",
      "text/plain": [
       "<Figure size 432x288 with 1 Axes>"
      ]
     },
     "metadata": {
      "needs_background": "light"
     },
     "output_type": "display_data"
    }
   ],
   "source": [
    "# Visualize the clustered data\n",
    "sns.scatterplot(data=ingredient_pc2_clusters, x='pc1', y='pc2', hue='cluster_k3')"
   ]
  },
  {
   "cell_type": "markdown",
   "id": "efd8a8ea-6095-435d-8290-c4657c3b01ca",
   "metadata": {},
   "source": [
    "# Q2"
   ]
  },
  {
   "cell_type": "code",
   "execution_count": 16,
   "id": "560de0a9-c777-4fbb-a698-e102497096fc",
   "metadata": {},
   "outputs": [],
   "source": [
    "palm_df = pd.read_csv('./palm_ffb.csv')"
   ]
  },
  {
   "cell_type": "code",
   "execution_count": 17,
   "id": "84cf722f-431e-45ee-9299-be232ee4a557",
   "metadata": {},
   "outputs": [
    {
     "name": "stdout",
     "output_type": "stream",
     "text": [
      "<class 'pandas.core.frame.DataFrame'>\n",
      "RangeIndex: 130 entries, 0 to 129\n",
      "Data columns (total 9 columns):\n",
      " #   Column         Non-Null Count  Dtype  \n",
      "---  ------         --------------  -----  \n",
      " 0   Date           130 non-null    object \n",
      " 1   SoilMoisture   130 non-null    float64\n",
      " 2   Average_Temp   130 non-null    float64\n",
      " 3   Min_Temp       130 non-null    float64\n",
      " 4   Max_Temp       130 non-null    float64\n",
      " 5   Precipitation  130 non-null    float64\n",
      " 6   Working_days   130 non-null    int64  \n",
      " 7   HA_Harvested   130 non-null    float64\n",
      " 8   FFB_Yield      130 non-null    float64\n",
      "dtypes: float64(7), int64(1), object(1)\n",
      "memory usage: 9.3+ KB\n"
     ]
    }
   ],
   "source": [
    "palm_df.info()"
   ]
  },
  {
   "cell_type": "code",
   "execution_count": 18,
   "id": "ca3b3a21-d848-4272-8496-992bf57f621c",
   "metadata": {},
   "outputs": [
    {
     "data": {
      "text/html": [
       "<div>\n",
       "<style scoped>\n",
       "    .dataframe tbody tr th:only-of-type {\n",
       "        vertical-align: middle;\n",
       "    }\n",
       "\n",
       "    .dataframe tbody tr th {\n",
       "        vertical-align: top;\n",
       "    }\n",
       "\n",
       "    .dataframe thead th {\n",
       "        text-align: right;\n",
       "    }\n",
       "</style>\n",
       "<table border=\"1\" class=\"dataframe\">\n",
       "  <thead>\n",
       "    <tr style=\"text-align: right;\">\n",
       "      <th></th>\n",
       "      <th>SoilMoisture</th>\n",
       "      <th>Average_Temp</th>\n",
       "      <th>Min_Temp</th>\n",
       "      <th>Max_Temp</th>\n",
       "      <th>Precipitation</th>\n",
       "      <th>Working_days</th>\n",
       "      <th>HA_Harvested</th>\n",
       "      <th>FFB_Yield</th>\n",
       "    </tr>\n",
       "  </thead>\n",
       "  <tbody>\n",
       "    <tr>\n",
       "      <th>count</th>\n",
       "      <td>130.000000</td>\n",
       "      <td>130.000000</td>\n",
       "      <td>130.000000</td>\n",
       "      <td>130.000000</td>\n",
       "      <td>130.000000</td>\n",
       "      <td>130.000000</td>\n",
       "      <td>130.000000</td>\n",
       "      <td>130.000000</td>\n",
       "    </tr>\n",
       "    <tr>\n",
       "      <th>mean</th>\n",
       "      <td>527.646923</td>\n",
       "      <td>26.849918</td>\n",
       "      <td>21.379231</td>\n",
       "      <td>33.851538</td>\n",
       "      <td>188.980769</td>\n",
       "      <td>24.753846</td>\n",
       "      <td>793404.491565</td>\n",
       "      <td>1.602231</td>\n",
       "    </tr>\n",
       "    <tr>\n",
       "      <th>std</th>\n",
       "      <td>57.367844</td>\n",
       "      <td>0.651413</td>\n",
       "      <td>0.688971</td>\n",
       "      <td>1.079638</td>\n",
       "      <td>80.237210</td>\n",
       "      <td>1.239289</td>\n",
       "      <td>34440.893854</td>\n",
       "      <td>0.281751</td>\n",
       "    </tr>\n",
       "    <tr>\n",
       "      <th>min</th>\n",
       "      <td>380.700000</td>\n",
       "      <td>25.158065</td>\n",
       "      <td>18.900000</td>\n",
       "      <td>31.100000</td>\n",
       "      <td>2.000000</td>\n",
       "      <td>21.000000</td>\n",
       "      <td>683431.944400</td>\n",
       "      <td>1.080000</td>\n",
       "    </tr>\n",
       "    <tr>\n",
       "      <th>25%</th>\n",
       "      <td>488.625000</td>\n",
       "      <td>26.442285</td>\n",
       "      <td>21.000000</td>\n",
       "      <td>33.100000</td>\n",
       "      <td>140.300000</td>\n",
       "      <td>24.000000</td>\n",
       "      <td>768966.949100</td>\n",
       "      <td>1.390000</td>\n",
       "    </tr>\n",
       "    <tr>\n",
       "      <th>50%</th>\n",
       "      <td>538.300000</td>\n",
       "      <td>26.930645</td>\n",
       "      <td>21.500000</td>\n",
       "      <td>33.900000</td>\n",
       "      <td>182.150000</td>\n",
       "      <td>25.000000</td>\n",
       "      <td>790036.158050</td>\n",
       "      <td>1.585000</td>\n",
       "    </tr>\n",
       "    <tr>\n",
       "      <th>75%</th>\n",
       "      <td>571.025000</td>\n",
       "      <td>27.270726</td>\n",
       "      <td>21.800000</td>\n",
       "      <td>34.600000</td>\n",
       "      <td>226.100000</td>\n",
       "      <td>26.000000</td>\n",
       "      <td>821989.235250</td>\n",
       "      <td>1.807500</td>\n",
       "    </tr>\n",
       "    <tr>\n",
       "      <th>max</th>\n",
       "      <td>647.300000</td>\n",
       "      <td>28.580000</td>\n",
       "      <td>22.600000</td>\n",
       "      <td>36.000000</td>\n",
       "      <td>496.100000</td>\n",
       "      <td>27.000000</td>\n",
       "      <td>882254.225400</td>\n",
       "      <td>2.270000</td>\n",
       "    </tr>\n",
       "  </tbody>\n",
       "</table>\n",
       "</div>"
      ],
      "text/plain": [
       "       SoilMoisture  Average_Temp    Min_Temp    Max_Temp  Precipitation  \\\n",
       "count    130.000000    130.000000  130.000000  130.000000     130.000000   \n",
       "mean     527.646923     26.849918   21.379231   33.851538     188.980769   \n",
       "std       57.367844      0.651413    0.688971    1.079638      80.237210   \n",
       "min      380.700000     25.158065   18.900000   31.100000       2.000000   \n",
       "25%      488.625000     26.442285   21.000000   33.100000     140.300000   \n",
       "50%      538.300000     26.930645   21.500000   33.900000     182.150000   \n",
       "75%      571.025000     27.270726   21.800000   34.600000     226.100000   \n",
       "max      647.300000     28.580000   22.600000   36.000000     496.100000   \n",
       "\n",
       "       Working_days   HA_Harvested   FFB_Yield  \n",
       "count    130.000000     130.000000  130.000000  \n",
       "mean      24.753846  793404.491565    1.602231  \n",
       "std        1.239289   34440.893854    0.281751  \n",
       "min       21.000000  683431.944400    1.080000  \n",
       "25%       24.000000  768966.949100    1.390000  \n",
       "50%       25.000000  790036.158050    1.585000  \n",
       "75%       26.000000  821989.235250    1.807500  \n",
       "max       27.000000  882254.225400    2.270000  "
      ]
     },
     "execution_count": 18,
     "metadata": {},
     "output_type": "execute_result"
    }
   ],
   "source": [
    "palm_df.describe()"
   ]
  },
  {
   "cell_type": "code",
   "execution_count": 19,
   "id": "43a10c1c-c4fc-4317-9581-3819c220ef6b",
   "metadata": {},
   "outputs": [
    {
     "name": "stdout",
     "output_type": "stream",
     "text": [
      "There are 0 columns in \"palm_ffb.csv\" dataset with missing values.\n"
     ]
    }
   ],
   "source": [
    "print(f'There are {palm_df.isnull().any().sum()} columns in \"palm_ffb.csv\" dataset with missing values.')"
   ]
  },
  {
   "cell_type": "markdown",
   "id": "2ee88386-a185-4aed-b6c5-6249a368bb9e",
   "metadata": {},
   "source": [
    "## Correlation"
   ]
  },
  {
   "cell_type": "code",
   "execution_count": 20,
   "id": "a292eda3-557f-4572-97a9-5533a96e3715",
   "metadata": {},
   "outputs": [
    {
     "data": {
      "image/png": "[encoded data removed]",
      "text/plain": [
       "<Figure size 288x288 with 1 Axes>"
      ]
     },
     "metadata": {
      "needs_background": "light"
     },
     "output_type": "display_data"
    },
    {
     "data": {
      "text/html": [
       "<div>\n",
       "<style scoped>\n",
       "    .dataframe tbody tr th:only-of-type {\n",
       "        vertical-align: middle;\n",
       "    }\n",
       "\n",
       "    .dataframe tbody tr th {\n",
       "        vertical-align: top;\n",
       "    }\n",
       "\n",
       "    .dataframe thead th {\n",
       "        text-align: right;\n",
       "    }\n",
       "</style>\n",
       "<table border=\"1\" class=\"dataframe\">\n",
       "  <thead>\n",
       "    <tr style=\"text-align: right;\">\n",
       "      <th></th>\n",
       "      <th>SoilMoisture</th>\n",
       "      <th>Average_Temp</th>\n",
       "      <th>Min_Temp</th>\n",
       "      <th>Max_Temp</th>\n",
       "      <th>Precipitation</th>\n",
       "      <th>Working_days</th>\n",
       "      <th>HA_Harvested</th>\n",
       "      <th>FFB_Yield</th>\n",
       "    </tr>\n",
       "  </thead>\n",
       "  <tbody>\n",
       "    <tr>\n",
       "      <th>SoilMoisture</th>\n",
       "      <td>1.000000</td>\n",
       "      <td>-0.649878</td>\n",
       "      <td>0.015839</td>\n",
       "      <td>-0.499936</td>\n",
       "      <td>0.552001</td>\n",
       "      <td>-0.057015</td>\n",
       "      <td>-0.326539</td>\n",
       "      <td>-0.003183</td>\n",
       "    </tr>\n",
       "    <tr>\n",
       "      <th>Average_Temp</th>\n",
       "      <td>-0.649878</td>\n",
       "      <td>1.000000</td>\n",
       "      <td>0.180396</td>\n",
       "      <td>0.761083</td>\n",
       "      <td>-0.369386</td>\n",
       "      <td>0.076321</td>\n",
       "      <td>0.446515</td>\n",
       "      <td>-0.005494</td>\n",
       "    </tr>\n",
       "    <tr>\n",
       "      <th>Min_Temp</th>\n",
       "      <td>0.015839</td>\n",
       "      <td>0.180396</td>\n",
       "      <td>1.000000</td>\n",
       "      <td>-0.124754</td>\n",
       "      <td>0.345944</td>\n",
       "      <td>0.068414</td>\n",
       "      <td>0.024396</td>\n",
       "      <td>0.103830</td>\n",
       "    </tr>\n",
       "    <tr>\n",
       "      <th>Max_Temp</th>\n",
       "      <td>-0.499936</td>\n",
       "      <td>0.761083</td>\n",
       "      <td>-0.124754</td>\n",
       "      <td>1.000000</td>\n",
       "      <td>-0.461117</td>\n",
       "      <td>-0.039112</td>\n",
       "      <td>0.314827</td>\n",
       "      <td>-0.071201</td>\n",
       "    </tr>\n",
       "    <tr>\n",
       "      <th>Precipitation</th>\n",
       "      <td>0.552001</td>\n",
       "      <td>-0.369386</td>\n",
       "      <td>0.345944</td>\n",
       "      <td>-0.461117</td>\n",
       "      <td>1.000000</td>\n",
       "      <td>0.127897</td>\n",
       "      <td>-0.265866</td>\n",
       "      <td>0.289604</td>\n",
       "    </tr>\n",
       "    <tr>\n",
       "      <th>Working_days</th>\n",
       "      <td>-0.057015</td>\n",
       "      <td>0.076321</td>\n",
       "      <td>0.068414</td>\n",
       "      <td>-0.039112</td>\n",
       "      <td>0.127897</td>\n",
       "      <td>1.000000</td>\n",
       "      <td>0.048876</td>\n",
       "      <td>0.116364</td>\n",
       "    </tr>\n",
       "    <tr>\n",
       "      <th>HA_Harvested</th>\n",
       "      <td>-0.326539</td>\n",
       "      <td>0.446515</td>\n",
       "      <td>0.024396</td>\n",
       "      <td>0.314827</td>\n",
       "      <td>-0.265866</td>\n",
       "      <td>0.048876</td>\n",
       "      <td>1.000000</td>\n",
       "      <td>-0.350222</td>\n",
       "    </tr>\n",
       "    <tr>\n",
       "      <th>FFB_Yield</th>\n",
       "      <td>-0.003183</td>\n",
       "      <td>-0.005494</td>\n",
       "      <td>0.103830</td>\n",
       "      <td>-0.071201</td>\n",
       "      <td>0.289604</td>\n",
       "      <td>0.116364</td>\n",
       "      <td>-0.350222</td>\n",
       "      <td>1.000000</td>\n",
       "    </tr>\n",
       "  </tbody>\n",
       "</table>\n",
       "</div>"
      ],
      "text/plain": [
       "               SoilMoisture  Average_Temp  Min_Temp  Max_Temp  Precipitation  \\\n",
       "SoilMoisture       1.000000     -0.649878  0.015839 -0.499936       0.552001   \n",
       "Average_Temp      -0.649878      1.000000  0.180396  0.761083      -0.369386   \n",
       "Min_Temp           0.015839      0.180396  1.000000 -0.124754       0.345944   \n",
       "Max_Temp          -0.499936      0.761083 -0.124754  1.000000      -0.461117   \n",
       "Precipitation      0.552001     -0.369386  0.345944 -0.461117       1.000000   \n",
       "Working_days      -0.057015      0.076321  0.068414 -0.039112       0.127897   \n",
       "HA_Harvested      -0.326539      0.446515  0.024396  0.314827      -0.265866   \n",
       "FFB_Yield         -0.003183     -0.005494  0.103830 -0.071201       0.289604   \n",
       "\n",
       "               Working_days  HA_Harvested  FFB_Yield  \n",
       "SoilMoisture      -0.057015     -0.326539  -0.003183  \n",
       "Average_Temp       0.076321      0.446515  -0.005494  \n",
       "Min_Temp           0.068414      0.024396   0.103830  \n",
       "Max_Temp          -0.039112      0.314827  -0.071201  \n",
       "Precipitation      0.127897     -0.265866   0.289604  \n",
       "Working_days       1.000000      0.048876   0.116364  \n",
       "HA_Harvested       0.048876      1.000000  -0.350222  \n",
       "FFB_Yield          0.116364     -0.350222   1.000000  "
      ]
     },
     "execution_count": 20,
     "metadata": {},
     "output_type": "execute_result"
    }
   ],
   "source": [
    "palm_corr_df = palm_df.drop(columns=['Date'])\n",
    "\n",
    "plt.matshow(palm_corr_df.corr())\n",
    "plt.xticks(range(8), palm_corr_df.columns.values, rotation='vertical')\n",
    "plt.yticks(range(8), palm_corr_df.columns.values)\n",
    "plt.xlabel('Correlation')\n",
    "plt.show()\n",
    "palm_corr_df.corr()"
   ]
  },
  {
   "cell_type": "markdown",
   "id": "45590609-9d5b-4568-a52e-251d3ba2af82",
   "metadata": {},
   "source": [
    "## Associated between each variables and FFB_Yield"
   ]
  },
  {
   "cell_type": "code",
   "execution_count": 21,
   "id": "24b56d71-0aeb-4280-840a-683bb620acfe",
   "metadata": {
    "tags": []
   },
   "outputs": [],
   "source": [
    "def ffb_time_series_chart(df, selected_chart):\n",
    "    \n",
    "    if selected_chart == 'SoilMoisture':\n",
    "        \n",
    "        data = [\n",
    "            go.Bar(\n",
    "                x = df['Date'],\n",
    "                y = df['SoilMoisture'],\n",
    "                name = 'SoilMoisture',\n",
    "                hovertemplate = 'Date: %{x}<br>' + 'SoilMoisture: %{y}<extra></extra>',\n",
    "                marker_color = 'grey',\n",
    "                yaxis = 'y1'\n",
    "            ),\n",
    "            go.Scatter(\n",
    "                x = df['Date'],\n",
    "                y = df['FFB_Yield'],\n",
    "                name = 'FFB_Yield',\n",
    "                hovertemplate = 'Date: %{x}<br>FFB_Yield: %{y}<extra></extra>',\n",
    "                marker_color = 'green',\n",
    "                fill = 'tonexty',\n",
    "                yaxis = 'y2'\n",
    "\n",
    "            )\n",
    "        ]\n",
    "        \n",
    "        layout = go.Layout(\n",
    "            xaxis_title = 'Date',\n",
    "            yaxis = dict(title = 'SoilMoisture'),\n",
    "            yaxis2 = dict(\n",
    "                title = 'FFB_Yield',\n",
    "                overlaying = 'y',\n",
    "                side = 'right'\n",
    "            ),\n",
    "            title = 'FFB_Yield vs SoilMoisture',\n",
    "            showlegend = True\n",
    "        )\n",
    "        \n",
    "        fig = go.Figure(data = data, layout = layout)\n",
    "        fig.show()\n",
    "\n",
    "    elif selected_chart == 'Average_Temp':\n",
    "\n",
    "        data = [\n",
    "            go.Bar(\n",
    "                x = df['Date'],\n",
    "                y = df['Average_Temp'],\n",
    "                name = 'Average_Temp',\n",
    "                hovertemplate = 'Date: %{x}<br>' + 'Average_Temp: %{y}<extra></extra>',\n",
    "                marker_color = 'grey',\n",
    "                yaxis = 'y1'\n",
    "            ),\n",
    "            go.Scatter(\n",
    "                x = df['Date'],\n",
    "                y = df['FFB_Yield'],\n",
    "                name = 'FFB_Yield',\n",
    "                hovertemplate = 'Date: %{x}<br>FFB Yield: %{y}<extra></extra>',\n",
    "                marker_color = 'green',\n",
    "                fill = 'tonexty',\n",
    "                yaxis = 'y2'\n",
    "\n",
    "            )\n",
    "        ]\n",
    "\n",
    "        layout = go.Layout(\n",
    "            xaxis_title = 'Date',\n",
    "            yaxis = dict(title = 'FFB_Yield'),\n",
    "            yaxis2 = dict(\n",
    "                title = 'FFB_Yield',\n",
    "                overlaying = 'y',\n",
    "                side = 'right'\n",
    "            ),\n",
    "            title = 'FFB Yield vs Average Temp',\n",
    "            showlegend = True\n",
    "        )\n",
    "\n",
    "        fig = go.Figure(data = data, layout = layout)\n",
    "        fig.show()\n",
    "        \n",
    "    elif selected_chart == 'Precipitation':\n",
    "\n",
    "        data = [\n",
    "            go.Bar(\n",
    "                x = df['Date'],\n",
    "                y = df['Precipitation'],\n",
    "                name = 'Precipitation',\n",
    "                hovertemplate = 'Date: %{x}<br>' + 'Precipitation: %{y}<extra></extra>',\n",
    "                marker_color = 'grey',\n",
    "                yaxis = 'y1'\n",
    "            ),\n",
    "            go.Scatter(\n",
    "                x = df['Date'],\n",
    "                y = df['FFB_Yield'],\n",
    "                name = 'FFB_Yield',\n",
    "                hovertemplate = 'Date: %{x}<br>FFB Yield: %{y}<extra></extra>',\n",
    "                marker_color = 'green',\n",
    "                fill = 'tonexty',\n",
    "                yaxis = 'y2'\n",
    "\n",
    "            )\n",
    "        ]\n",
    "\n",
    "        layout = go.Layout(\n",
    "            xaxis_title = 'Date',\n",
    "            yaxis = dict(title = 'Precipitation'),\n",
    "            yaxis2 = dict(\n",
    "                title = 'FFB_Yield',\n",
    "                overlaying = 'y',\n",
    "                side = 'right'\n",
    "            ),\n",
    "            title = 'FFB Yield vs Precipitation',\n",
    "            showlegend = True\n",
    "        )\n",
    "\n",
    "        fig = go.Figure(data = data, layout = layout)\n",
    "        fig.show()\n",
    "            \n",
    "    elif selected_chart == 'Working_days':\n",
    "\n",
    "        data = [\n",
    "            go.Bar(\n",
    "                x = df['Date'],\n",
    "                y = df['Working_days'],\n",
    "                name = 'Working_days',\n",
    "                hovertemplate = 'Date: %{x}<br>' + 'Working_days: %{y}<extra></extra>',\n",
    "                marker_color = 'grey',\n",
    "                yaxis = 'y1'\n",
    "            ),\n",
    "            go.Scatter(\n",
    "                x = df['Date'],\n",
    "                y = df['FFB_Yield'],\n",
    "                name = 'FFB_Yield',\n",
    "                hovertemplate = 'Date: %{x}<br>FFB Yield: %{y}<extra></extra>',\n",
    "                marker_color = 'green',\n",
    "                fill = 'tonexty',\n",
    "                yaxis = 'y2'\n",
    "\n",
    "            )\n",
    "        ]\n",
    "\n",
    "        layout = go.Layout(\n",
    "            xaxis_title = 'Date',\n",
    "            yaxis = dict(title = 'Working_days'),\n",
    "            yaxis2 = dict(\n",
    "                title = 'FFB_Yield',\n",
    "                overlaying = 'y',\n",
    "                side = 'right'\n",
    "            ),\n",
    "            title = 'FFB Yield vs Working_days',\n",
    "            showlegend = True\n",
    "        )\n",
    "\n",
    "        fig = go.Figure(data = data, layout = layout)\n",
    "        fig.show()\n",
    "        \n",
    "    elif selected_chart == 'HA_Harvested':\n",
    "        \n",
    "        data = [\n",
    "            go.Bar(\n",
    "                x = df['Date'],\n",
    "                y = df['HA_Harvested'],\n",
    "                name = 'HA_Harvested',\n",
    "                hovertemplate = 'Date: %{x}<br>' + 'HA_Harvested: %{y}<extra></extra>',\n",
    "                marker_color = 'grey',\n",
    "                yaxis = 'y1'\n",
    "            ),\n",
    "            go.Scatter(\n",
    "                x = df['Date'],\n",
    "                y = df['FFB_Yield'],\n",
    "                name = 'FFB_Yield',\n",
    "                hovertemplate = 'Date: %{x}<br>FFB Yield: %{y}<extra></extra>',\n",
    "                marker_color = 'green',\n",
    "                fill = 'tonexty',\n",
    "                yaxis = 'y2'\n",
    "\n",
    "            )\n",
    "        ]\n",
    "\n",
    "        layout = go.Layout(\n",
    "            xaxis_title = 'Date',\n",
    "            yaxis = dict(title = 'HA_Harvested'),\n",
    "            yaxis2 = dict(\n",
    "                title = 'FFB_Yield',\n",
    "                overlaying = 'y',\n",
    "                side = 'right'\n",
    "            ),\n",
    "            title = 'FFB Yield vs HA_Harvested',\n",
    "            showlegend = True\n",
    "        )\n",
    "\n",
    "        fig = go.Figure(data = data, layout = layout)\n",
    "        fig.show()\n",
    "            "
   ]
  },
  {
   "cell_type": "code",
   "execution_count": 22,
   "id": "debc65bd-51f8-45fe-9afb-de879e108a27",
   "metadata": {},
   "outputs": [
    {
     "data": {
      "application/vnd.jupyter.widget-view+json": {
       "model_id": "7131d3d9903a4d008312b132283ac70c",
       "version_major": 2,
       "version_minor": 0
      },
      "text/plain": [
       "interactive(children=(Dropdown(description='Chart', options=('SoilMoisture', 'Average_Temp', 'Precipitation', …"
      ]
     },
     "metadata": {},
     "output_type": "display_data"
    }
   ],
   "source": [
    "@interact\n",
    "\n",
    "def show_chart(Chart = ['SoilMoisture', 'Average_Temp', 'Precipitation', 'Working_days', 'HA_Harvested']):\n",
    "    return ffb_time_series_chart(palm_df, Chart)"
   ]
  },
  {
   "cell_type": "markdown",
   "id": "791129e3-2cf3-4533-af18-ef390b6b44ed",
   "metadata": {
    "tags": []
   },
   "source": [
    "- SoilMoisture has positive associated with FFB_Yield\n",
    "- Average_Temp do not has significant associated with FFB_Yield\n",
    "- Precipitation has positive associated with FFB_Yield\n",
    "- Working_days do not has significant associated with FFB_Yield\\\n",
    "- HA_Harvested has negative associated with FFB_Yield"
   ]
  },
  {
   "cell_type": "markdown",
   "id": "e96ea1e8-07c5-4820-ac64-ef49f1f2e43c",
   "metadata": {},
   "source": [
    "## Feature Selection"
   ]
  },
  {
   "cell_type": "code",
   "execution_count": 23,
   "id": "e559459b-b030-4135-9b25-2d66de8b5d16",
   "metadata": {},
   "outputs": [],
   "source": [
    "def ranking(ranks, names, order=1):\n",
    "    minmax = MinMaxScaler()\n",
    "    ranks = minmax.fit_transform(order*np.array([ranks]).T).T[0]\n",
    "    ranks = map(lambda x: round(x,2), ranks)\n",
    "    return dict(zip(names, ranks))"
   ]
  },
  {
   "cell_type": "code",
   "execution_count": 24,
   "id": "f1749564-8bce-40ee-a321-4f657cd58195",
   "metadata": {},
   "outputs": [
    {
     "data": {
      "application/vnd.plotly.v1+json": {
       "config": {
        "plotlyServerURL": "https://plot.ly"
       },
       "data": [
        {
         "alignmentgroup": "True",
         "hovertemplate": "Features=%{x}<br>Score=%{marker.color}<extra></extra>",
         "legendgroup": "",
         "marker": {
          "color": [
           1,
           1,
           1,
           0.75,
           0.5,
           0.25,
           0
          ],
          "coloraxis": "coloraxis",
          "pattern": {
           "shape": ""
          }
         },
         "name": "",
         "offsetgroup": "",
         "orientation": "v",
         "showlegend": false,
         "textposition": "auto",
         "type": "bar",
         "x": [
          "Average_Temp",
          "Precipitation",
          "HA_Harvested",
          "SoilMoisture",
          "Max_Temp",
          "Min_Temp",
          "Working_days"
         ],
         "xaxis": "x",
         "y": [
          1,
          1,
          1,
          0.75,
          0.5,
          0.25,
          0
         ],
         "yaxis": "y"
        }
       ],
       "layout": {
        "autosize": true,
        "barmode": "relative",
        "coloraxis": {
         "colorbar": {
          "title": {
           "text": "Score"
          }
         },
         "colorscale": [
          [
           0,
           "#0d0887"
          ],
          [
           0.1111111111111111,
           "#46039f"
          ],
          [
           0.2222222222222222,
           "#7201a8"
          ],
          [
           0.3333333333333333,
           "#9c179e"
          ],
          [
           0.4444444444444444,
           "#bd3786"
          ],
          [
           0.5555555555555556,
           "#d8576b"
          ],
          [
           0.6666666666666666,
           "#ed7953"
          ],
          [
           0.7777777777777778,
           "#fb9f3a"
          ],
          [
           0.8888888888888888,
           "#fdca26"
          ],
          [
           1,
           "#f0f921"
          ]
         ]
        },
        "legend": {
         "tracegroupgap": 0
        },
        "margin": {
         "t": 60
        },
        "template": {
         "data": {
          "bar": [
           {
            "error_x": {
             "color": "#2a3f5f"
            },
            "error_y": {
             "color": "#2a3f5f"
            },
            "marker": {
             "line": {
              "color": "#E5ECF6",
              "width": 0.5
             },
             "pattern": {
              "fillmode": "overlay",
              "size": 10,
              "solidity": 0.2
             }
            },
            "type": "bar"
           }
          ],
          "barpolar": [
           {
            "marker": {
             "line": {
              "color": "#E5ECF6",
              "width": 0.5
             },
             "pattern": {
              "fillmode": "overlay",
              "size": 10,
              "solidity": 0.2
             }
            },
            "type": "barpolar"
           }
          ],
          "carpet": [
           {
            "aaxis": {
             "endlinecolor": "#2a3f5f",
             "gridcolor": "white",
             "linecolor": "white",
             "minorgridcolor": "white",
             "startlinecolor": "#2a3f5f"
            },
            "baxis": {
             "endlinecolor": "#2a3f5f",
             "gridcolor": "white",
             "linecolor": "white",
             "minorgridcolor": "white",
             "startlinecolor": "#2a3f5f"
            },
            "type": "carpet"
           }
          ],
          "choropleth": [
           {
            "colorbar": {
             "outlinewidth": 0,
             "ticks": ""
            },
            "type": "choropleth"
           }
          ],
          "contour": [
           {
            "colorbar": {
             "outlinewidth": 0,
             "ticks": ""
            },
            "colorscale": [
             [
              0,
              "#0d0887"
             ],
             [
              0.1111111111111111,
              "#46039f"
             ],
             [
              0.2222222222222222,
              "#7201a8"
             ],
             [
              0.3333333333333333,
              "#9c179e"
             ],
             [
              0.4444444444444444,
              "#bd3786"
             ],
             [
              0.5555555555555556,
              "#d8576b"
             ],
             [
              0.6666666666666666,
              "#ed7953"
             ],
             [
              0.7777777777777778,
              "#fb9f3a"
             ],
             [
              0.8888888888888888,
              "#fdca26"
             ],
             [
              1,
              "#f0f921"
             ]
            ],
            "type": "contour"
           }
          ],
          "contourcarpet": [
           {
            "colorbar": {
             "outlinewidth": 0,
             "ticks": ""
            },
            "type": "contourcarpet"
           }
          ],
          "heatmap": [
           {
            "colorbar": {
             "outlinewidth": 0,
             "ticks": ""
            },
            "colorscale": [
             [
              0,
              "#0d0887"
             ],
             [
              0.1111111111111111,
              "#46039f"
             ],
             [
              0.2222222222222222,
              "#7201a8"
             ],
             [
              0.3333333333333333,
              "#9c179e"
             ],
             [
              0.4444444444444444,
              "#bd3786"
             ],
             [
              0.5555555555555556,
              "#d8576b"
             ],
             [
              0.6666666666666666,
              "#ed7953"
             ],
             [
              0.7777777777777778,
              "#fb9f3a"
             ],
             [
              0.8888888888888888,
              "#fdca26"
             ],
             [
              1,
              "#f0f921"
             ]
            ],
            "type": "heatmap"
           }
          ],
          "heatmapgl": [
           {
            "colorbar": {
             "outlinewidth": 0,
             "ticks": ""
            },
            "colorscale": [
             [
              0,
              "#0d0887"
             ],
             [
              0.1111111111111111,
              "#46039f"
             ],
             [
              0.2222222222222222,
              "#7201a8"
             ],
             [
              0.3333333333333333,
              "#9c179e"
             ],
             [
              0.4444444444444444,
              "#bd3786"
             ],
             [
              0.5555555555555556,
              "#d8576b"
             ],
             [
              0.6666666666666666,
              "#ed7953"
             ],
             [
              0.7777777777777778,
              "#fb9f3a"
             ],
             [
              0.8888888888888888,
              "#fdca26"
             ],
             [
              1,
              "#f0f921"
             ]
            ],
            "type": "heatmapgl"
           }
          ],
          "histogram": [
           {
            "marker": {
             "pattern": {
              "fillmode": "overlay",
              "size": 10,
              "solidity": 0.2
             }
            },
            "type": "histogram"
           }
          ],
          "histogram2d": [
           {
            "colorbar": {
             "outlinewidth": 0,
             "ticks": ""
            },
            "colorscale": [
             [
              0,
              "#0d0887"
             ],
             [
              0.1111111111111111,
              "#46039f"
             ],
             [
              0.2222222222222222,
              "#7201a8"
             ],
             [
              0.3333333333333333,
              "#9c179e"
             ],
             [
              0.4444444444444444,
              "#bd3786"
             ],
             [
              0.5555555555555556,
              "#d8576b"
             ],
             [
              0.6666666666666666,
              "#ed7953"
             ],
             [
              0.7777777777777778,
              "#fb9f3a"
             ],
             [
              0.8888888888888888,
              "#fdca26"
             ],
             [
              1,
              "#f0f921"
             ]
            ],
            "type": "histogram2d"
           }
          ],
          "histogram2dcontour": [
           {
            "colorbar": {
             "outlinewidth": 0,
             "ticks": ""
            },
            "colorscale": [
             [
              0,
              "#0d0887"
             ],
             [
              0.1111111111111111,
              "#46039f"
             ],
             [
              0.2222222222222222,
              "#7201a8"
             ],
             [
              0.3333333333333333,
              "#9c179e"
             ],
             [
              0.4444444444444444,
              "#bd3786"
             ],
             [
              0.5555555555555556,
              "#d8576b"
             ],
             [
              0.6666666666666666,
              "#ed7953"
             ],
             [
              0.7777777777777778,
              "#fb9f3a"
             ],
             [
              0.8888888888888888,
              "#fdca26"
             ],
             [
              1,
              "#f0f921"
             ]
            ],
            "type": "histogram2dcontour"
           }
          ],
          "mesh3d": [
           {
            "colorbar": {
             "outlinewidth": 0,
             "ticks": ""
            },
            "type": "mesh3d"
           }
          ],
          "parcoords": [
           {
            "line": {
             "colorbar": {
              "outlinewidth": 0,
              "ticks": ""
             }
            },
            "type": "parcoords"
           }
          ],
          "pie": [
           {
            "automargin": true,
            "type": "pie"
           }
          ],
          "scatter": [
           {
            "fillpattern": {
             "fillmode": "overlay",
             "size": 10,
             "solidity": 0.2
            },
            "type": "scatter"
           }
          ],
          "scatter3d": [
           {
            "line": {
             "colorbar": {
              "outlinewidth": 0,
              "ticks": ""
             }
            },
            "marker": {
             "colorbar": {
              "outlinewidth": 0,
              "ticks": ""
             }
            },
            "type": "scatter3d"
           }
          ],
          "scattercarpet": [
           {
            "marker": {
             "colorbar": {
              "outlinewidth": 0,
              "ticks": ""
             }
            },
            "type": "scattercarpet"
           }
          ],
          "scattergeo": [
           {
            "marker": {
             "colorbar": {
              "outlinewidth": 0,
              "ticks": ""
             }
            },
            "type": "scattergeo"
           }
          ],
          "scattergl": [
           {
            "marker": {
             "colorbar": {
              "outlinewidth": 0,
              "ticks": ""
             }
            },
            "type": "scattergl"
           }
          ],
          "scattermapbox": [
           {
            "marker": {
             "colorbar": {
              "outlinewidth": 0,
              "ticks": ""
             }
            },
            "type": "scattermapbox"
           }
          ],
          "scatterpolar": [
           {
            "marker": {
             "colorbar": {
              "outlinewidth": 0,
              "ticks": ""
             }
            },
            "type": "scatterpolar"
           }
          ],
          "scatterpolargl": [
           {
            "marker": {
             "colorbar": {
              "outlinewidth": 0,
              "ticks": ""
             }
            },
            "type": "scatterpolargl"
           }
          ],
          "scatterternary": [
           {
            "marker": {
             "colorbar": {
              "outlinewidth": 0,
              "ticks": ""
             }
            },
            "type": "scatterternary"
           }
          ],
          "surface": [
           {
            "colorbar": {
             "outlinewidth": 0,
             "ticks": ""
            },
            "colorscale": [
             [
              0,
              "#0d0887"
             ],
             [
              0.1111111111111111,
              "#46039f"
             ],
             [
              0.2222222222222222,
              "#7201a8"
             ],
             [
              0.3333333333333333,
              "#9c179e"
             ],
             [
              0.4444444444444444,
              "#bd3786"
             ],
             [
              0.5555555555555556,
              "#d8576b"
             ],
             [
              0.6666666666666666,
              "#ed7953"
             ],
             [
              0.7777777777777778,
              "#fb9f3a"
             ],
             [
              0.8888888888888888,
              "#fdca26"
             ],
             [
              1,
              "#f0f921"
             ]
            ],
            "type": "surface"
           }
          ],
          "table": [
           {
            "cells": {
             "fill": {
              "color": "#EBF0F8"
             },
             "line": {
              "color": "white"
             }
            },
            "header": {
             "fill": {
              "color": "#C8D4E3"
             },
             "line": {
              "color": "white"
             }
            },
            "type": "table"
           }
          ]
         },
         "layout": {
          "annotationdefaults": {
           "arrowcolor": "#2a3f5f",
           "arrowhead": 0,
           "arrowwidth": 1
          },
          "autotypenumbers": "strict",
          "coloraxis": {
           "colorbar": {
            "outlinewidth": 0,
            "ticks": ""
           }
          },
          "colorscale": {
           "diverging": [
            [
             0,
             "#8e0152"
            ],
            [
             0.1,
             "#c51b7d"
            ],
            [
             0.2,
             "#de77ae"
            ],
            [
             0.3,
             "#f1b6da"
            ],
            [
             0.4,
             "#fde0ef"
            ],
            [
             0.5,
             "#f7f7f7"
            ],
            [
             0.6,
             "#e6f5d0"
            ],
            [
             0.7,
             "#b8e186"
            ],
            [
             0.8,
             "#7fbc41"
            ],
            [
             0.9,
             "#4d9221"
            ],
            [
             1,
             "#276419"
            ]
           ],
           "sequential": [
            [
             0,
             "#0d0887"
            ],
            [
             0.1111111111111111,
             "#46039f"
            ],
            [
             0.2222222222222222,
             "#7201a8"
            ],
            [
             0.3333333333333333,
             "#9c179e"
            ],
            [
             0.4444444444444444,
             "#bd3786"
            ],
            [
             0.5555555555555556,
             "#d8576b"
            ],
            [
             0.6666666666666666,
             "#ed7953"
            ],
            [
             0.7777777777777778,
             "#fb9f3a"
            ],
            [
             0.8888888888888888,
             "#fdca26"
            ],
            [
             1,
             "#f0f921"
            ]
           ],
           "sequentialminus": [
            [
             0,
             "#0d0887"
            ],
            [
             0.1111111111111111,
             "#46039f"
            ],
            [
             0.2222222222222222,
             "#7201a8"
            ],
            [
             0.3333333333333333,
             "#9c179e"
            ],
            [
             0.4444444444444444,
             "#bd3786"
            ],
            [
             0.5555555555555556,
             "#d8576b"
            ],
            [
             0.6666666666666666,
             "#ed7953"
            ],
            [
             0.7777777777777778,
             "#fb9f3a"
            ],
            [
             0.8888888888888888,
             "#fdca26"
            ],
            [
             1,
             "#f0f921"
            ]
           ]
          },
          "colorway": [
           "#636efa",
           "#EF553B",
           "#00cc96",
           "#ab63fa",
           "#FFA15A",
           "#19d3f3",
           "#FF6692",
           "#B6E880",
           "#FF97FF",
           "#FECB52"
          ],
          "font": {
           "color": "#2a3f5f"
          },
          "geo": {
           "bgcolor": "white",
           "lakecolor": "white",
           "landcolor": "#E5ECF6",
           "showlakes": true,
           "showland": true,
           "subunitcolor": "white"
          },
          "hoverlabel": {
           "align": "left"
          },
          "hovermode": "closest",
          "mapbox": {
           "style": "light"
          },
          "paper_bgcolor": "white",
          "plot_bgcolor": "#E5ECF6",
          "polar": {
           "angularaxis": {
            "gridcolor": "white",
            "linecolor": "white",
            "ticks": ""
           },
           "bgcolor": "#E5ECF6",
           "radialaxis": {
            "gridcolor": "white",
            "linecolor": "white",
            "ticks": ""
           }
          },
          "scene": {
           "xaxis": {
            "backgroundcolor": "#E5ECF6",
            "gridcolor": "white",
            "gridwidth": 2,
            "linecolor": "white",
            "showbackground": true,
            "ticks": "",
            "zerolinecolor": "white"
           },
           "yaxis": {
            "backgroundcolor": "#E5ECF6",
            "gridcolor": "white",
            "gridwidth": 2,
            "linecolor": "white",
            "showbackground": true,
            "ticks": "",
            "zerolinecolor": "white"
           },
           "zaxis": {
            "backgroundcolor": "#E5ECF6",
            "gridcolor": "white",
            "gridwidth": 2,
            "linecolor": "white",
            "showbackground": true,
            "ticks": "",
            "zerolinecolor": "white"
           }
          },
          "shapedefaults": {
           "line": {
            "color": "#2a3f5f"
           }
          },
          "ternary": {
           "aaxis": {
            "gridcolor": "white",
            "linecolor": "white",
            "ticks": ""
           },
           "baxis": {
            "gridcolor": "white",
            "linecolor": "white",
            "ticks": ""
           },
           "bgcolor": "#E5ECF6",
           "caxis": {
            "gridcolor": "white",
            "linecolor": "white",
            "ticks": ""
           }
          },
          "title": {
           "x": 0.05
          },
          "xaxis": {
           "automargin": true,
           "gridcolor": "white",
           "linecolor": "white",
           "ticks": "",
           "title": {
            "standoff": 15
           },
           "zerolinecolor": "white",
           "zerolinewidth": 2
          },
          "yaxis": {
           "automargin": true,
           "gridcolor": "white",
           "linecolor": "white",
           "ticks": "",
           "title": {
            "standoff": 15
           },
           "zerolinecolor": "white",
           "zerolinewidth": 2
          }
         }
        },
        "title": {
         "text": "Strong Features to FFB_Yield (Boruta)"
        },
        "xaxis": {
         "anchor": "y",
         "autorange": true,
         "domain": [
          0,
          1
         ],
         "range": [
          -0.5,
          6.5
         ],
         "title": {
          "text": "Features"
         },
         "type": "category"
        },
        "yaxis": {
         "anchor": "x",
         "autorange": true,
         "domain": [
          0,
          1
         ],
         "range": [
          0,
          1.0526315789473684
         ],
         "title": {
          "text": "Score"
         },
         "type": "linear"
        }
       }
      },
      "image/png": "[encoded data removed]",
      "text/html": [
       "<div>                            <div id=\"ec253674-76e1-488d-8632-fa395fda5650\" class=\"plotly-graph-div\" style=\"height:700px; width:100%;\"></div>            <script type=\"text/javascript\">                require([\"plotly\"], function(Plotly) {                    window.PLOTLYENV=window.PLOTLYENV || {};                                    if (document.getElementById(\"ec253674-76e1-488d-8632-fa395fda5650\")) {                    Plotly.newPlot(                        \"ec253674-76e1-488d-8632-fa395fda5650\",                        [{\"alignmentgroup\":\"True\",\"hovertemplate\":\"Features=%{x}<br>Score=%{marker.color}<extra></extra>\",\"legendgroup\":\"\",\"marker\":{\"color\":[1.0,1.0,1.0,0.75,0.5,0.25,0.0],\"coloraxis\":\"coloraxis\",\"pattern\":{\"shape\":\"\"}},\"name\":\"\",\"offsetgroup\":\"\",\"orientation\":\"v\",\"showlegend\":false,\"textposition\":\"auto\",\"x\":[\"Average_Temp\",\"Precipitation\",\"HA_Harvested\",\"SoilMoisture\",\"Max_Temp\",\"Min_Temp\",\"Working_days\"],\"xaxis\":\"x\",\"y\":[1.0,1.0,1.0,0.75,0.5,0.25,0.0],\"yaxis\":\"y\",\"type\":\"bar\"}],                        {\"template\":{\"data\":{\"histogram2dcontour\":[{\"type\":\"histogram2dcontour\",\"colorbar\":{\"outlinewidth\":0,\"ticks\":\"\"},\"colorscale\":[[0.0,\"#0d0887\"],[0.1111111111111111,\"#46039f\"],[0.2222222222222222,\"#7201a8\"],[0.3333333333333333,\"#9c179e\"],[0.4444444444444444,\"#bd3786\"],[0.5555555555555556,\"#d8576b\"],[0.6666666666666666,\"#ed7953\"],[0.7777777777777778,\"#fb9f3a\"],[0.8888888888888888,\"#fdca26\"],[1.0,\"#f0f921\"]]}],\"choropleth\":[{\"type\":\"choropleth\",\"colorbar\":{\"outlinewidth\":0,\"ticks\":\"\"}}],\"histogram2d\":[{\"type\":\"histogram2d\",\"colorbar\":{\"outlinewidth\":0,\"ticks\":\"\"},\"colorscale\":[[0.0,\"#0d0887\"],[0.1111111111111111,\"#46039f\"],[0.2222222222222222,\"#7201a8\"],[0.3333333333333333,\"#9c179e\"],[0.4444444444444444,\"#bd3786\"],[0.5555555555555556,\"#d8576b\"],[0.6666666666666666,\"#ed7953\"],[0.7777777777777778,\"#fb9f3a\"],[0.8888888888888888,\"#fdca26\"],[1.0,\"#f0f921\"]]}],\"heatmap\":[{\"type\":\"heatmap\",\"colorbar\":{\"outlinewidth\":0,\"ticks\":\"\"},\"colorscale\":[[0.0,\"#0d0887\"],[0.1111111111111111,\"#46039f\"],[0.2222222222222222,\"#7201a8\"],[0.3333333333333333,\"#9c179e\"],[0.4444444444444444,\"#bd3786\"],[0.5555555555555556,\"#d8576b\"],[0.6666666666666666,\"#ed7953\"],[0.7777777777777778,\"#fb9f3a\"],[0.8888888888888888,\"#fdca26\"],[1.0,\"#f0f921\"]]}],\"heatmapgl\":[{\"type\":\"heatmapgl\",\"colorbar\":{\"outlinewidth\":0,\"ticks\":\"\"},\"colorscale\":[[0.0,\"#0d0887\"],[0.1111111111111111,\"#46039f\"],[0.2222222222222222,\"#7201a8\"],[0.3333333333333333,\"#9c179e\"],[0.4444444444444444,\"#bd3786\"],[0.5555555555555556,\"#d8576b\"],[0.6666666666666666,\"#ed7953\"],[0.7777777777777778,\"#fb9f3a\"],[0.8888888888888888,\"#fdca26\"],[1.0,\"#f0f921\"]]}],\"contourcarpet\":[{\"type\":\"contourcarpet\",\"colorbar\":{\"outlinewidth\":0,\"ticks\":\"\"}}],\"contour\":[{\"type\":\"contour\",\"colorbar\":{\"outlinewidth\":0,\"ticks\":\"\"},\"colorscale\":[[0.0,\"#0d0887\"],[0.1111111111111111,\"#46039f\"],[0.2222222222222222,\"#7201a8\"],[0.3333333333333333,\"#9c179e\"],[0.4444444444444444,\"#bd3786\"],[0.5555555555555556,\"#d8576b\"],[0.6666666666666666,\"#ed7953\"],[0.7777777777777778,\"#fb9f3a\"],[0.8888888888888888,\"#fdca26\"],[1.0,\"#f0f921\"]]}],\"surface\":[{\"type\":\"surface\",\"colorbar\":{\"outlinewidth\":0,\"ticks\":\"\"},\"colorscale\":[[0.0,\"#0d0887\"],[0.1111111111111111,\"#46039f\"],[0.2222222222222222,\"#7201a8\"],[0.3333333333333333,\"#9c179e\"],[0.4444444444444444,\"#bd3786\"],[0.5555555555555556,\"#d8576b\"],[0.6666666666666666,\"#ed7953\"],[0.7777777777777778,\"#fb9f3a\"],[0.8888888888888888,\"#fdca26\"],[1.0,\"#f0f921\"]]}],\"mesh3d\":[{\"type\":\"mesh3d\",\"colorbar\":{\"outlinewidth\":0,\"ticks\":\"\"}}],\"scatter\":[{\"fillpattern\":{\"fillmode\":\"overlay\",\"size\":10,\"solidity\":0.2},\"type\":\"scatter\"}],\"parcoords\":[{\"type\":\"parcoords\",\"line\":{\"colorbar\":{\"outlinewidth\":0,\"ticks\":\"\"}}}],\"scatterpolargl\":[{\"type\":\"scatterpolargl\",\"marker\":{\"colorbar\":{\"outlinewidth\":0,\"ticks\":\"\"}}}],\"bar\":[{\"error_x\":{\"color\":\"#2a3f5f\"},\"error_y\":{\"color\":\"#2a3f5f\"},\"marker\":{\"line\":{\"color\":\"#E5ECF6\",\"width\":0.5},\"pattern\":{\"fillmode\":\"overlay\",\"size\":10,\"solidity\":0.2}},\"type\":\"bar\"}],\"scattergeo\":[{\"type\":\"scattergeo\",\"marker\":{\"colorbar\":{\"outlinewidth\":0,\"ticks\":\"\"}}}],\"scatterpolar\":[{\"type\":\"scatterpolar\",\"marker\":{\"colorbar\":{\"outlinewidth\":0,\"ticks\":\"\"}}}],\"histogram\":[{\"marker\":{\"pattern\":{\"fillmode\":\"overlay\",\"size\":10,\"solidity\":0.2}},\"type\":\"histogram\"}],\"scattergl\":[{\"type\":\"scattergl\",\"marker\":{\"colorbar\":{\"outlinewidth\":0,\"ticks\":\"\"}}}],\"scatter3d\":[{\"type\":\"scatter3d\",\"line\":{\"colorbar\":{\"outlinewidth\":0,\"ticks\":\"\"}},\"marker\":{\"colorbar\":{\"outlinewidth\":0,\"ticks\":\"\"}}}],\"scattermapbox\":[{\"type\":\"scattermapbox\",\"marker\":{\"colorbar\":{\"outlinewidth\":0,\"ticks\":\"\"}}}],\"scatterternary\":[{\"type\":\"scatterternary\",\"marker\":{\"colorbar\":{\"outlinewidth\":0,\"ticks\":\"\"}}}],\"scattercarpet\":[{\"type\":\"scattercarpet\",\"marker\":{\"colorbar\":{\"outlinewidth\":0,\"ticks\":\"\"}}}],\"carpet\":[{\"aaxis\":{\"endlinecolor\":\"#2a3f5f\",\"gridcolor\":\"white\",\"linecolor\":\"white\",\"minorgridcolor\":\"white\",\"startlinecolor\":\"#2a3f5f\"},\"baxis\":{\"endlinecolor\":\"#2a3f5f\",\"gridcolor\":\"white\",\"linecolor\":\"white\",\"minorgridcolor\":\"white\",\"startlinecolor\":\"#2a3f5f\"},\"type\":\"carpet\"}],\"table\":[{\"cells\":{\"fill\":{\"color\":\"#EBF0F8\"},\"line\":{\"color\":\"white\"}},\"header\":{\"fill\":{\"color\":\"#C8D4E3\"},\"line\":{\"color\":\"white\"}},\"type\":\"table\"}],\"barpolar\":[{\"marker\":{\"line\":{\"color\":\"#E5ECF6\",\"width\":0.5},\"pattern\":{\"fillmode\":\"overlay\",\"size\":10,\"solidity\":0.2}},\"type\":\"barpolar\"}],\"pie\":[{\"automargin\":true,\"type\":\"pie\"}]},\"layout\":{\"autotypenumbers\":\"strict\",\"colorway\":[\"#636efa\",\"#EF553B\",\"#00cc96\",\"#ab63fa\",\"#FFA15A\",\"#19d3f3\",\"#FF6692\",\"#B6E880\",\"#FF97FF\",\"#FECB52\"],\"font\":{\"color\":\"#2a3f5f\"},\"hovermode\":\"closest\",\"hoverlabel\":{\"align\":\"left\"},\"paper_bgcolor\":\"white\",\"plot_bgcolor\":\"#E5ECF6\",\"polar\":{\"bgcolor\":\"#E5ECF6\",\"angularaxis\":{\"gridcolor\":\"white\",\"linecolor\":\"white\",\"ticks\":\"\"},\"radialaxis\":{\"gridcolor\":\"white\",\"linecolor\":\"white\",\"ticks\":\"\"}},\"ternary\":{\"bgcolor\":\"#E5ECF6\",\"aaxis\":{\"gridcolor\":\"white\",\"linecolor\":\"white\",\"ticks\":\"\"},\"baxis\":{\"gridcolor\":\"white\",\"linecolor\":\"white\",\"ticks\":\"\"},\"caxis\":{\"gridcolor\":\"white\",\"linecolor\":\"white\",\"ticks\":\"\"}},\"coloraxis\":{\"colorbar\":{\"outlinewidth\":0,\"ticks\":\"\"}},\"colorscale\":{\"sequential\":[[0.0,\"#0d0887\"],[0.1111111111111111,\"#46039f\"],[0.2222222222222222,\"#7201a8\"],[0.3333333333333333,\"#9c179e\"],[0.4444444444444444,\"#bd3786\"],[0.5555555555555556,\"#d8576b\"],[0.6666666666666666,\"#ed7953\"],[0.7777777777777778,\"#fb9f3a\"],[0.8888888888888888,\"#fdca26\"],[1.0,\"#f0f921\"]],\"sequentialminus\":[[0.0,\"#0d0887\"],[0.1111111111111111,\"#46039f\"],[0.2222222222222222,\"#7201a8\"],[0.3333333333333333,\"#9c179e\"],[0.4444444444444444,\"#bd3786\"],[0.5555555555555556,\"#d8576b\"],[0.6666666666666666,\"#ed7953\"],[0.7777777777777778,\"#fb9f3a\"],[0.8888888888888888,\"#fdca26\"],[1.0,\"#f0f921\"]],\"diverging\":[[0,\"#8e0152\"],[0.1,\"#c51b7d\"],[0.2,\"#de77ae\"],[0.3,\"#f1b6da\"],[0.4,\"#fde0ef\"],[0.5,\"#f7f7f7\"],[0.6,\"#e6f5d0\"],[0.7,\"#b8e186\"],[0.8,\"#7fbc41\"],[0.9,\"#4d9221\"],[1,\"#276419\"]]},\"xaxis\":{\"gridcolor\":\"white\",\"linecolor\":\"white\",\"ticks\":\"\",\"title\":{\"standoff\":15},\"zerolinecolor\":\"white\",\"automargin\":true,\"zerolinewidth\":2},\"yaxis\":{\"gridcolor\":\"white\",\"linecolor\":\"white\",\"ticks\":\"\",\"title\":{\"standoff\":15},\"zerolinecolor\":\"white\",\"automargin\":true,\"zerolinewidth\":2},\"scene\":{\"xaxis\":{\"backgroundcolor\":\"#E5ECF6\",\"gridcolor\":\"white\",\"linecolor\":\"white\",\"showbackground\":true,\"ticks\":\"\",\"zerolinecolor\":\"white\",\"gridwidth\":2},\"yaxis\":{\"backgroundcolor\":\"#E5ECF6\",\"gridcolor\":\"white\",\"linecolor\":\"white\",\"showbackground\":true,\"ticks\":\"\",\"zerolinecolor\":\"white\",\"gridwidth\":2},\"zaxis\":{\"backgroundcolor\":\"#E5ECF6\",\"gridcolor\":\"white\",\"linecolor\":\"white\",\"showbackground\":true,\"ticks\":\"\",\"zerolinecolor\":\"white\",\"gridwidth\":2}},\"shapedefaults\":{\"line\":{\"color\":\"#2a3f5f\"}},\"annotationdefaults\":{\"arrowcolor\":\"#2a3f5f\",\"arrowhead\":0,\"arrowwidth\":1},\"geo\":{\"bgcolor\":\"white\",\"landcolor\":\"#E5ECF6\",\"subunitcolor\":\"white\",\"showland\":true,\"showlakes\":true,\"lakecolor\":\"white\"},\"title\":{\"x\":0.05},\"mapbox\":{\"style\":\"light\"}}},\"xaxis\":{\"anchor\":\"y\",\"domain\":[0.0,1.0],\"title\":{\"text\":\"Features\"}},\"yaxis\":{\"anchor\":\"x\",\"domain\":[0.0,1.0],\"title\":{\"text\":\"Score\"}},\"coloraxis\":{\"colorbar\":{\"title\":{\"text\":\"Score\"}},\"colorscale\":[[0.0,\"#0d0887\"],[0.1111111111111111,\"#46039f\"],[0.2222222222222222,\"#7201a8\"],[0.3333333333333333,\"#9c179e\"],[0.4444444444444444,\"#bd3786\"],[0.5555555555555556,\"#d8576b\"],[0.6666666666666666,\"#ed7953\"],[0.7777777777777778,\"#fb9f3a\"],[0.8888888888888888,\"#fdca26\"],[1.0,\"#f0f921\"]]},\"legend\":{\"tracegroupgap\":0},\"margin\":{\"t\":60},\"barmode\":\"relative\",\"height\":700,\"title\":{\"text\":\"Strong Features to FFB_Yield (Boruta)\"}},                        {\"responsive\": true}                    ).then(function(){\n",
       "                            \n",
       "var gd = document.getElementById('ec253674-76e1-488d-8632-fa395fda5650');\n",
       "var x = new MutationObserver(function (mutations, observer) {{\n",
       "        var display = window.getComputedStyle(gd).display;\n",
       "        if (!display || display === 'none') {{\n",
       "            console.log([gd, 'removed!']);\n",
       "            Plotly.purge(gd);\n",
       "            observer.disconnect();\n",
       "        }}\n",
       "}});\n",
       "\n",
       "// Listen for the removal of the full notebook cells\n",
       "var notebookContainer = gd.closest('#notebook-container');\n",
       "if (notebookContainer) {{\n",
       "    x.observe(notebookContainer, {childList: true});\n",
       "}}\n",
       "\n",
       "// Listen for the clearing of the current output cell\n",
       "var outputEl = gd.closest('.output');\n",
       "if (outputEl) {{\n",
       "    x.observe(outputEl, {childList: true});\n",
       "}}\n",
       "\n",
       "                        })                };                });            </script>        </div>"
      ]
     },
     "metadata": {},
     "output_type": "display_data"
    }
   ],
   "source": [
    "X = palm_df.drop(columns=['Date', 'FFB_Yield'])\n",
    "y = palm_df['FFB_Yield']\n",
    "\n",
    "rf = RandomForestRegressor(n_jobs= 4,oob_score= True)\n",
    "feat_selector = bp(rf, n_estimators = 'auto', random_state = 1)\n",
    "\n",
    "feat_selector.fit(X.values, y.ravel())\n",
    "\n",
    "boruta_score = ranking(list(map(float, feat_selector.ranking_)), X.columns, order = -1)\n",
    "boruta_score = pd.DataFrame(list(boruta_score.items()), columns = ['Features','Score'])\n",
    "boruta_score = boruta_score.sort_values('Score', ascending = False)\n",
    "\n",
    "fig = px.bar(boruta_score, x='Features', y='Score', color='Score', height=700)\n",
    "fig.update_layout(title='Strong Features to FFB_Yield (Boruta)')\n",
    "fig.show()"
   ]
  },
  {
   "cell_type": "markdown",
   "id": "f2a73f6f-30c4-4f0e-a9bf-8b7a9fa60988",
   "metadata": {},
   "source": [
    "Strong Features to FFB_Yield\n",
    "1. Average_Temp, Precipitation, HA_Harvested\n",
    "2. SoilMoisture\n",
    "3. Max_Temp\n",
    "4. Min_Temp\n",
    "5. Working_days"
   ]
  }
 ],
 "metadata": {
  "kernelspec": {
   "display_name": "Python 3 (ipykernel)",
   "language": "python",
   "name": "python3"
  },
  "language_info": {
   "codemirror_mode": {
    "name": "ipython",
    "version": 3
   },
   "file_extension": ".py",
   "mimetype": "text/x-python",
   "name": "python",
   "nbconvert_exporter": "python",
   "pygments_lexer": "ipython3",
   "version": "3.9.7"
  }
 },
 "nbformat": 4,
 "nbformat_minor": 5
}
